{
 "cells": [
  {
   "cell_type": "markdown",
   "id": "b31acf5d-934e-4038-8456-7722e1e53700",
   "metadata": {},
   "source": [
    "# Load ENV File"
   ]
  },
  {
   "cell_type": "code",
   "execution_count": 1,
   "id": "a9e44687-ae0b-4900-b913-cada51ce701a",
   "metadata": {},
   "source": [
    "from pathlib import Path\n",
    "\n",
    "from src.custom_types import EnvironmentType\n",
    "\n",
    "from dotenv import load_dotenv\n",
    "\n",
    "dotenv_path = Path(\"envs/.env.prod\")\n",
    "load_dotenv(dotenv_path=dotenv_path)\n",
    "print(f\"Loaded {dotenv_path}\")"
   ],
   "outputs": []
  },
  {
   "cell_type": "markdown",
   "id": "54085d97-68e4-43d7-b991-ff067aeb738f",
   "metadata": {},
   "source": [
    "# Create DB_MANAGER"
   ]
  },
  {
   "cell_type": "code",
   "execution_count": 2,
   "id": "5935ce58-dd95-493e-b255-ba3e59db6e3a",
   "metadata": {},
   "source": [
    "from src.db.db_manager import DBManager\n",
    "from src.utils import get_db_settings\n",
    "\n",
    "db_manager = DBManager(\n",
    "    db_settings=get_db_settings(),\n",
    ")"
   ],
   "outputs": []
  },
  {
   "cell_type": "markdown",
   "id": "5b673103-093b-4aa1-8ed5-877cfe955b9d",
   "metadata": {},
   "source": [
    "# EXAMPLES"
   ]
  },
  {
   "cell_type": "markdown",
   "id": "f71ab956-2819-46ce-a74d-407853733671",
   "metadata": {},
   "source": [
    "## Create Moneyboxes"
   ]
  },
  {
   "cell_type": "code",
   "execution_count": 5,
   "id": "a80a4bbf-e0ef-4d7a-8690-3a1ae299484c",
   "metadata": {},
   "source": [
    "import uuid\n",
    "\n",
    "GENERATE_N_MONEYBOXES = 10\n",
    "created_moneyboxes = {}\n",
    "\n",
    "\n",
    "moneybox_data = {\"name\": \"Test\"}\n",
    "moneybox = await db_manager.add_moneybox(moneybox_data=moneybox_data)\n",
    "\n",
    "for _ in range(GENERATE_N_MONEYBOXES):\n",
    "    moneybox_data = {\"name\": f\"Test Moneybox [{uuid.uuid4()}]\"}\n",
    "    moneybox = await db_manager.add_moneybox(moneybox_data=moneybox_data)\n",
    "    created_moneyboxes[moneybox[\"id\"]] = moneybox\n",
    "    print(f\"Created: {moneybox}\")"
   ],
   "outputs": []
  },
  {
   "cell_type": "markdown",
   "id": "15c330bb-0bdc-4d43-9a8a-ab23dc7d04ad",
   "metadata": {},
   "source": [
    "## Update Moneybox 1"
   ]
  },
  {
   "cell_type": "code",
   "execution_count": 9,
   "id": "cb8aeefc-2179-43b8-a949-f6084443b580",
   "metadata": {},
   "source": [
    "import uuid\n",
    "\n",
    "moneybox_data = {\"name\": f\"Test Moneybox 42\"}\n",
    "moneybox = await db_manager.update_moneybox(moneybox_id=1, moneybox_data=moneybox_data)\n",
    "\n",
    "print(f\"Updated Moneybox: {moneybox}\")"
   ],
   "outputs": []
  },
  {
   "cell_type": "markdown",
   "id": "62442892-d7f9-494d-b2c1-0a2f324f5162",
   "metadata": {},
   "source": [
    "## Select Moneybox 1"
   ]
  },
  {
   "cell_type": "code",
   "execution_count": 7,
   "id": "d969b6d0-ef7e-4e4c-bb81-d2893fb17b1c",
   "metadata": {},
   "source": [
    "import uuid\n",
    "\n",
    "moneybox = await db_manager.get_moneybox(moneybox_id=1)\n",
    "\n",
    "print(f\"Moneybox: {moneybox}\")"
   ],
   "outputs": []
  },
  {
   "cell_type": "markdown",
   "id": "73cb0008-5aa2-4dac-aa6d-52cb9701705a",
   "metadata": {},
   "source": [
    "## Delete Moneyboxes"
   ]
  },
  {
   "cell_type": "code",
   "execution_count": null,
   "id": "eae498be-8a7b-431b-9be3-6f93c4454ff3",
   "metadata": {},
   "source": [
    "from pprint import pprint\n",
    "\n",
    "# pprint(created_moneyboxes)\n",
    "\n",
    "delete_moneybox_ids = [\n",
    "    moneybox_id for moneybox_id, moneybox in created_moneyboxes.items() if moneybox[\"id\"] % 3 == 0\n",
    "]\n",
    "print(f\"Try to delete Moneyboxex with id: {', '.join(map(str, delete_moneybox_ids))}\")\n",
    "\n",
    "\n",
    "for moneybox_id in delete_moneybox_ids:\n",
    "    try:\n",
    "        await db_manager.delete_moneybox(moneybox_id=moneybox_id)\n",
    "    except Exception as ex:\n",
    "        print(ex)"
   ],
   "outputs": []
  }
 ],
 "metadata": {
  "kernelspec": {
   "display_name": "Python 3 (ipykernel)",
   "language": "python",
   "name": "python3"
  },
  "language_info": {
   "codemirror_mode": {
    "name": "ipython",
    "version": 3
   },
   "file_extension": ".py",
   "mimetype": "text/x-python",
   "name": "python",
   "nbconvert_exporter": "python",
   "pygments_lexer": "ipython3",
   "version": "3.11.5"
  }
 },
 "nbformat": 4,
 "nbformat_minor": 5
}
